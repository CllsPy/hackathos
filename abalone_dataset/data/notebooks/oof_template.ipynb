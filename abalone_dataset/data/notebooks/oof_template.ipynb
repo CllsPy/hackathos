{
 "cells": [
  {
   "cell_type": "markdown",
   "metadata": {},
   "source": [
    "# XGBoost Starter Notebook\n",
    "This is a starter notebook for Kaggle's August Playground competition. It trains an XGBoost model with some feature engineering and achieves CV 0.976. This notebook shows some techniques that I have used in previous Kaggle playground competitions to perform well.\n",
    "\n",
    "This notebook demonstrates at least these 5 things:\n",
    "* How to create new categorical features from pairs of existing categorical features\n",
    "* How to use original data as new columns\n",
    "* How to use original data as new rows\n",
    "* How to categorical encode (with CE count encoding and TE target encoding)\n",
    "* How to train XGB with big data using memory efficient QuantileDMatrix"
   ]
  },
  {
   "cell_type": "markdown",
   "metadata": {},
   "source": [
    "# NVIDIA cuDF Pandas\n",
    "We accelerate our notebook with the magic command `%load_ext cudf.pandas`. Afterward, all calls to Pandas will run NVIDIA cuDF on GPU (instead of Pandas on CPU). This makes our notebook run faster!"
   ]
  },
  {
   "cell_type": "code",
   "execution_count": 2,
   "metadata": {
    "execution": {
     "iopub.execute_input": "2025-08-22T00:27:52.391796Z",
     "iopub.status.busy": "2025-08-22T00:27:52.391100Z",
     "iopub.status.idle": "2025-08-22T00:27:52.395946Z",
     "shell.execute_reply": "2025-08-22T00:27:52.395276Z",
     "shell.execute_reply.started": "2025-08-22T00:27:52.391769Z"
    },
    "trusted": true
   },
   "outputs": [
    {
     "name": "stdout",
     "output_type": "stream",
     "text": [
      "The cudf.pandas extension is already loaded. To reload it, use:\n",
      "  %reload_ext cudf.pandas\n"
     ]
    }
   ],
   "source": [
    "%load_ext cudf.pandas"
   ]
  },
  {
   "cell_type": "markdown",
   "metadata": {},
   "source": [
    "# Load Data\n",
    "We load train, test, and original datasets. In every Kaggle playground competition, the data is synthetic and it is generated from an original dataset. In this competition, the original dataset is [here][1]\n",
    "\n",
    "[1]: https://www.kaggle.com/datasets/sushant097/bank-marketing-dataset-full"
   ]
  },
  {
   "cell_type": "code",
   "execution_count": 3,
   "metadata": {
    "execution": {
     "iopub.execute_input": "2025-08-22T00:27:55.429298Z",
     "iopub.status.busy": "2025-08-22T00:27:55.429022Z",
     "iopub.status.idle": "2025-08-22T00:27:56.245864Z",
     "shell.execute_reply": "2025-08-22T00:27:56.245310Z",
     "shell.execute_reply.started": "2025-08-22T00:27:55.429279Z"
    },
    "trusted": true
   },
   "outputs": [
    {
     "name": "stdout",
     "output_type": "stream",
     "text": [
      "Train shape (750000, 17)\n"
     ]
    },
    {
     "data": {
      "text/html": [
       "<div>\n",
       "<style scoped>\n",
       "    .dataframe tbody tr th:only-of-type {\n",
       "        vertical-align: middle;\n",
       "    }\n",
       "\n",
       "    .dataframe tbody tr th {\n",
       "        vertical-align: top;\n",
       "    }\n",
       "\n",
       "    .dataframe thead th {\n",
       "        text-align: right;\n",
       "    }\n",
       "</style>\n",
       "<table border=\"1\" class=\"dataframe\">\n",
       "  <thead>\n",
       "    <tr style=\"text-align: right;\">\n",
       "      <th></th>\n",
       "      <th>age</th>\n",
       "      <th>job</th>\n",
       "      <th>marital</th>\n",
       "      <th>education</th>\n",
       "      <th>default</th>\n",
       "      <th>balance</th>\n",
       "      <th>housing</th>\n",
       "      <th>loan</th>\n",
       "      <th>contact</th>\n",
       "      <th>day</th>\n",
       "      <th>month</th>\n",
       "      <th>duration</th>\n",
       "      <th>campaign</th>\n",
       "      <th>pdays</th>\n",
       "      <th>previous</th>\n",
       "      <th>poutcome</th>\n",
       "      <th>y</th>\n",
       "    </tr>\n",
       "    <tr>\n",
       "      <th>id</th>\n",
       "      <th></th>\n",
       "      <th></th>\n",
       "      <th></th>\n",
       "      <th></th>\n",
       "      <th></th>\n",
       "      <th></th>\n",
       "      <th></th>\n",
       "      <th></th>\n",
       "      <th></th>\n",
       "      <th></th>\n",
       "      <th></th>\n",
       "      <th></th>\n",
       "      <th></th>\n",
       "      <th></th>\n",
       "      <th></th>\n",
       "      <th></th>\n",
       "      <th></th>\n",
       "    </tr>\n",
       "  </thead>\n",
       "  <tbody>\n",
       "    <tr>\n",
       "      <th>0</th>\n",
       "      <td>42</td>\n",
       "      <td>technician</td>\n",
       "      <td>married</td>\n",
       "      <td>secondary</td>\n",
       "      <td>no</td>\n",
       "      <td>7</td>\n",
       "      <td>no</td>\n",
       "      <td>no</td>\n",
       "      <td>cellular</td>\n",
       "      <td>25</td>\n",
       "      <td>aug</td>\n",
       "      <td>117</td>\n",
       "      <td>3</td>\n",
       "      <td>-1</td>\n",
       "      <td>0</td>\n",
       "      <td>unknown</td>\n",
       "      <td>0</td>\n",
       "    </tr>\n",
       "    <tr>\n",
       "      <th>1</th>\n",
       "      <td>38</td>\n",
       "      <td>blue-collar</td>\n",
       "      <td>married</td>\n",
       "      <td>secondary</td>\n",
       "      <td>no</td>\n",
       "      <td>514</td>\n",
       "      <td>no</td>\n",
       "      <td>no</td>\n",
       "      <td>unknown</td>\n",
       "      <td>18</td>\n",
       "      <td>jun</td>\n",
       "      <td>185</td>\n",
       "      <td>1</td>\n",
       "      <td>-1</td>\n",
       "      <td>0</td>\n",
       "      <td>unknown</td>\n",
       "      <td>0</td>\n",
       "    </tr>\n",
       "    <tr>\n",
       "      <th>2</th>\n",
       "      <td>36</td>\n",
       "      <td>blue-collar</td>\n",
       "      <td>married</td>\n",
       "      <td>secondary</td>\n",
       "      <td>no</td>\n",
       "      <td>602</td>\n",
       "      <td>yes</td>\n",
       "      <td>no</td>\n",
       "      <td>unknown</td>\n",
       "      <td>14</td>\n",
       "      <td>may</td>\n",
       "      <td>111</td>\n",
       "      <td>2</td>\n",
       "      <td>-1</td>\n",
       "      <td>0</td>\n",
       "      <td>unknown</td>\n",
       "      <td>0</td>\n",
       "    </tr>\n",
       "    <tr>\n",
       "      <th>3</th>\n",
       "      <td>27</td>\n",
       "      <td>student</td>\n",
       "      <td>single</td>\n",
       "      <td>secondary</td>\n",
       "      <td>no</td>\n",
       "      <td>34</td>\n",
       "      <td>yes</td>\n",
       "      <td>no</td>\n",
       "      <td>unknown</td>\n",
       "      <td>28</td>\n",
       "      <td>may</td>\n",
       "      <td>10</td>\n",
       "      <td>2</td>\n",
       "      <td>-1</td>\n",
       "      <td>0</td>\n",
       "      <td>unknown</td>\n",
       "      <td>0</td>\n",
       "    </tr>\n",
       "    <tr>\n",
       "      <th>4</th>\n",
       "      <td>26</td>\n",
       "      <td>technician</td>\n",
       "      <td>married</td>\n",
       "      <td>secondary</td>\n",
       "      <td>no</td>\n",
       "      <td>889</td>\n",
       "      <td>yes</td>\n",
       "      <td>no</td>\n",
       "      <td>cellular</td>\n",
       "      <td>3</td>\n",
       "      <td>feb</td>\n",
       "      <td>902</td>\n",
       "      <td>1</td>\n",
       "      <td>-1</td>\n",
       "      <td>0</td>\n",
       "      <td>unknown</td>\n",
       "      <td>1</td>\n",
       "    </tr>\n",
       "  </tbody>\n",
       "</table>\n",
       "</div>"
      ],
      "text/plain": [
       "    age          job  marital  education default  balance housing loan  \\\n",
       "id                                                                       \n",
       "0    42   technician  married  secondary      no        7      no   no   \n",
       "1    38  blue-collar  married  secondary      no      514      no   no   \n",
       "2    36  blue-collar  married  secondary      no      602     yes   no   \n",
       "3    27      student   single  secondary      no       34     yes   no   \n",
       "4    26   technician  married  secondary      no      889     yes   no   \n",
       "\n",
       "     contact  day month  duration  campaign  pdays  previous poutcome  y  \n",
       "id                                                                        \n",
       "0   cellular   25   aug       117         3     -1         0  unknown  0  \n",
       "1    unknown   18   jun       185         1     -1         0  unknown  0  \n",
       "2    unknown   14   may       111         2     -1         0  unknown  0  \n",
       "3    unknown   28   may        10         2     -1         0  unknown  0  \n",
       "4   cellular    3   feb       902         1     -1         0  unknown  1  "
      ]
     },
     "execution_count": 3,
     "metadata": {},
     "output_type": "execute_result"
    }
   ],
   "source": [
    "import pandas as pd, numpy as np, os\n",
    "\n",
    "PATH = \"/kaggle/input/playground-series-s5e8/\"\n",
    "train = pd.read_csv(f\"{PATH}train.csv\").set_index('id')\n",
    "print(\"Train shape\", train.shape )\n",
    "train.head()"
   ]
  },
  {
   "cell_type": "code",
   "execution_count": 4,
   "metadata": {
    "execution": {
     "iopub.execute_input": "2025-08-22T00:27:58.797817Z",
     "iopub.status.busy": "2025-08-22T00:27:58.797217Z",
     "iopub.status.idle": "2025-08-22T00:27:59.016768Z",
     "shell.execute_reply": "2025-08-22T00:27:59.015977Z",
     "shell.execute_reply.started": "2025-08-22T00:27:58.797788Z"
    },
    "trusted": true
   },
   "outputs": [
    {
     "name": "stdout",
     "output_type": "stream",
     "text": [
      "Test shape (250000, 17)\n"
     ]
    },
    {
     "data": {
      "text/html": [
       "<div>\n",
       "<style scoped>\n",
       "    .dataframe tbody tr th:only-of-type {\n",
       "        vertical-align: middle;\n",
       "    }\n",
       "\n",
       "    .dataframe tbody tr th {\n",
       "        vertical-align: top;\n",
       "    }\n",
       "\n",
       "    .dataframe thead th {\n",
       "        text-align: right;\n",
       "    }\n",
       "</style>\n",
       "<table border=\"1\" class=\"dataframe\">\n",
       "  <thead>\n",
       "    <tr style=\"text-align: right;\">\n",
       "      <th></th>\n",
       "      <th>age</th>\n",
       "      <th>job</th>\n",
       "      <th>marital</th>\n",
       "      <th>education</th>\n",
       "      <th>default</th>\n",
       "      <th>balance</th>\n",
       "      <th>housing</th>\n",
       "      <th>loan</th>\n",
       "      <th>contact</th>\n",
       "      <th>day</th>\n",
       "      <th>month</th>\n",
       "      <th>duration</th>\n",
       "      <th>campaign</th>\n",
       "      <th>pdays</th>\n",
       "      <th>previous</th>\n",
       "      <th>poutcome</th>\n",
       "      <th>y</th>\n",
       "    </tr>\n",
       "    <tr>\n",
       "      <th>id</th>\n",
       "      <th></th>\n",
       "      <th></th>\n",
       "      <th></th>\n",
       "      <th></th>\n",
       "      <th></th>\n",
       "      <th></th>\n",
       "      <th></th>\n",
       "      <th></th>\n",
       "      <th></th>\n",
       "      <th></th>\n",
       "      <th></th>\n",
       "      <th></th>\n",
       "      <th></th>\n",
       "      <th></th>\n",
       "      <th></th>\n",
       "      <th></th>\n",
       "      <th></th>\n",
       "    </tr>\n",
       "  </thead>\n",
       "  <tbody>\n",
       "    <tr>\n",
       "      <th>750000</th>\n",
       "      <td>32</td>\n",
       "      <td>blue-collar</td>\n",
       "      <td>married</td>\n",
       "      <td>secondary</td>\n",
       "      <td>no</td>\n",
       "      <td>1397</td>\n",
       "      <td>yes</td>\n",
       "      <td>no</td>\n",
       "      <td>unknown</td>\n",
       "      <td>21</td>\n",
       "      <td>may</td>\n",
       "      <td>224</td>\n",
       "      <td>1</td>\n",
       "      <td>-1</td>\n",
       "      <td>0</td>\n",
       "      <td>unknown</td>\n",
       "      <td>-1</td>\n",
       "    </tr>\n",
       "    <tr>\n",
       "      <th>750001</th>\n",
       "      <td>44</td>\n",
       "      <td>management</td>\n",
       "      <td>married</td>\n",
       "      <td>tertiary</td>\n",
       "      <td>no</td>\n",
       "      <td>23</td>\n",
       "      <td>yes</td>\n",
       "      <td>no</td>\n",
       "      <td>cellular</td>\n",
       "      <td>3</td>\n",
       "      <td>apr</td>\n",
       "      <td>586</td>\n",
       "      <td>2</td>\n",
       "      <td>-1</td>\n",
       "      <td>0</td>\n",
       "      <td>unknown</td>\n",
       "      <td>-1</td>\n",
       "    </tr>\n",
       "    <tr>\n",
       "      <th>750002</th>\n",
       "      <td>36</td>\n",
       "      <td>self-employed</td>\n",
       "      <td>married</td>\n",
       "      <td>primary</td>\n",
       "      <td>no</td>\n",
       "      <td>46</td>\n",
       "      <td>yes</td>\n",
       "      <td>yes</td>\n",
       "      <td>cellular</td>\n",
       "      <td>13</td>\n",
       "      <td>may</td>\n",
       "      <td>111</td>\n",
       "      <td>2</td>\n",
       "      <td>-1</td>\n",
       "      <td>0</td>\n",
       "      <td>unknown</td>\n",
       "      <td>-1</td>\n",
       "    </tr>\n",
       "    <tr>\n",
       "      <th>750003</th>\n",
       "      <td>58</td>\n",
       "      <td>blue-collar</td>\n",
       "      <td>married</td>\n",
       "      <td>secondary</td>\n",
       "      <td>no</td>\n",
       "      <td>-1380</td>\n",
       "      <td>yes</td>\n",
       "      <td>yes</td>\n",
       "      <td>unknown</td>\n",
       "      <td>29</td>\n",
       "      <td>may</td>\n",
       "      <td>125</td>\n",
       "      <td>1</td>\n",
       "      <td>-1</td>\n",
       "      <td>0</td>\n",
       "      <td>unknown</td>\n",
       "      <td>-1</td>\n",
       "    </tr>\n",
       "    <tr>\n",
       "      <th>750004</th>\n",
       "      <td>28</td>\n",
       "      <td>technician</td>\n",
       "      <td>single</td>\n",
       "      <td>secondary</td>\n",
       "      <td>no</td>\n",
       "      <td>1950</td>\n",
       "      <td>yes</td>\n",
       "      <td>no</td>\n",
       "      <td>cellular</td>\n",
       "      <td>22</td>\n",
       "      <td>jul</td>\n",
       "      <td>181</td>\n",
       "      <td>1</td>\n",
       "      <td>-1</td>\n",
       "      <td>0</td>\n",
       "      <td>unknown</td>\n",
       "      <td>-1</td>\n",
       "    </tr>\n",
       "  </tbody>\n",
       "</table>\n",
       "</div>"
      ],
      "text/plain": [
       "        age            job  marital  education default  balance housing loan  \\\n",
       "id                                                                             \n",
       "750000   32    blue-collar  married  secondary      no     1397     yes   no   \n",
       "750001   44     management  married   tertiary      no       23     yes   no   \n",
       "750002   36  self-employed  married    primary      no       46     yes  yes   \n",
       "750003   58    blue-collar  married  secondary      no    -1380     yes  yes   \n",
       "750004   28     technician   single  secondary      no     1950     yes   no   \n",
       "\n",
       "         contact  day month  duration  campaign  pdays  previous poutcome  y  \n",
       "id                                                                            \n",
       "750000   unknown   21   may       224         1     -1         0  unknown -1  \n",
       "750001  cellular    3   apr       586         2     -1         0  unknown -1  \n",
       "750002  cellular   13   may       111         2     -1         0  unknown -1  \n",
       "750003   unknown   29   may       125         1     -1         0  unknown -1  \n",
       "750004  cellular   22   jul       181         1     -1         0  unknown -1  "
      ]
     },
     "execution_count": 4,
     "metadata": {},
     "output_type": "execute_result"
    }
   ],
   "source": [
    "test = pd.read_csv(f\"{PATH}test.csv\").set_index('id')\n",
    "test['y'] = -1\n",
    "print(\"Test shape\", test.shape )\n",
    "test.head()"
   ]
  },
  {
   "cell_type": "markdown",
   "metadata": {},
   "source": [
    "# EDA (Exploratory Data Analysis)\n",
    "We now combine all data together and then explore the columns and their properties. We observe that there is no missing data. And we observe that the categorical columns have low cardinality (i.e. under 12). We observe that most numerical columns have few unique values, and two numerical columns have around 2k and 8k unique values."
   ]
  },
  {
   "cell_type": "code",
   "execution_count": 16,
   "metadata": {
    "execution": {
     "iopub.execute_input": "2025-08-22T00:29:25.313395Z",
     "iopub.status.busy": "2025-08-22T00:29:25.312826Z",
     "iopub.status.idle": "2025-08-22T00:29:25.412089Z",
     "shell.execute_reply": "2025-08-22T00:29:25.411454Z",
     "shell.execute_reply.started": "2025-08-22T00:29:25.313373Z"
    },
    "trusted": true
   },
   "outputs": [
    {
     "name": "stdout",
     "output_type": "stream",
     "text": [
      "Combined data shape (1000000, 280)\n"
     ]
    }
   ],
   "source": [
    "combine = pd.concat([train,test],axis=0)\n",
    "print(\"Combined data shape\", combine.shape )"
   ]
  },
  {
   "cell_type": "code",
   "execution_count": 8,
   "metadata": {
    "execution": {
     "iopub.execute_input": "2025-08-22T00:28:27.821595Z",
     "iopub.status.busy": "2025-08-22T00:28:27.821325Z",
     "iopub.status.idle": "2025-08-22T00:28:28.015807Z",
     "shell.execute_reply": "2025-08-22T00:28:28.015034Z",
     "shell.execute_reply.started": "2025-08-22T00:28:27.821573Z"
    },
    "trusted": true
   },
   "outputs": [
    {
     "name": "stdout",
     "output_type": "stream",
     "text": [
      "[NUM] age has 78 unique and 0 NA\n",
      "[CAT] job has 12 unique and 0 NA\n",
      "[CAT] marital has 3 unique and 0 NA\n",
      "[CAT] education has 4 unique and 0 NA\n",
      "[CAT] default has 2 unique and 0 NA\n",
      "[NUM] balance has 8469 unique and 0 NA\n",
      "[CAT] housing has 2 unique and 0 NA\n",
      "[CAT] loan has 2 unique and 0 NA\n",
      "[CAT] contact has 3 unique and 0 NA\n",
      "[NUM] day has 31 unique and 0 NA\n",
      "[CAT] month has 12 unique and 0 NA\n",
      "[NUM] duration has 1798 unique and 0 NA\n",
      "[NUM] campaign has 52 unique and 0 NA\n",
      "[NUM] pdays has 614 unique and 0 NA\n",
      "[NUM] previous has 53 unique and 0 NA\n",
      "[CAT] poutcome has 4 unique and 0 NA\n",
      "CATS: ['job', 'marital', 'education', 'default', 'housing', 'loan', 'contact', 'month', 'poutcome']\n",
      "NUMS: ['age', 'balance', 'day', 'duration', 'campaign', 'pdays', 'previous']\n"
     ]
    }
   ],
   "source": [
    "CATS = []\n",
    "NUMS = []\n",
    "for c in combine.columns[:-1]:\n",
    "    t = \"CAT\"\n",
    "    if combine[c].dtype=='object':\n",
    "        CATS.append(c)\n",
    "    else:\n",
    "        NUMS.append(c)\n",
    "        t = \"NUM\"\n",
    "    n = combine[c].nunique()\n",
    "    na = combine[c].isna().sum()\n",
    "    print(f\"[{t}] {c} has {n} unique and {na} NA\")\n",
    "print(\"CATS:\", CATS )\n",
    "print(\"NUMS:\", NUMS )"
   ]
  },
  {
   "cell_type": "markdown",
   "metadata": {},
   "source": [
    "# Feature Engineer (LE - Label Encode)\n",
    "We will label encode all categorical columns. Also we will make a duplicate of each numerical column and treat the copy as a categorical column."
   ]
  },
  {
   "cell_type": "code",
   "execution_count": 9,
   "metadata": {
    "execution": {
     "iopub.execute_input": "2025-08-22T00:28:31.934683Z",
     "iopub.status.busy": "2025-08-22T00:28:31.934166Z",
     "iopub.status.idle": "2025-08-22T00:28:32.427771Z",
     "shell.execute_reply": "2025-08-22T00:28:32.426958Z",
     "shell.execute_reply.started": "2025-08-22T00:28:31.934650Z"
    },
    "trusted": true
   },
   "outputs": [
    {
     "name": "stdout",
     "output_type": "stream",
     "text": [
      "New CATS: ['age2', 'balance2', 'day2', 'duration2', 'campaign2', 'pdays2', 'previous2']\n",
      "Cardinality of all CATS: {'age2': 78, 'balance2': 8469, 'day2': 31, 'duration2': 1798, 'campaign2': 52, 'pdays2': 614, 'previous2': 53, 'job': 12, 'marital': 3, 'education': 4, 'default': 2, 'housing': 2, 'loan': 2, 'contact': 3, 'month': 12, 'poutcome': 4}\n"
     ]
    }
   ],
   "source": [
    "CATS1 = []\n",
    "SIZES = {}\n",
    "for c in NUMS + CATS:\n",
    "    n = c\n",
    "    if c in NUMS: \n",
    "        n = f\"{c}2\"\n",
    "        CATS1.append(n)\n",
    "    combine[n],_ = combine[c].factorize()\n",
    "    SIZES[n] = combine[n].max()+1\n",
    "\n",
    "    combine[c] = combine[c].astype('int32')\n",
    "    combine[n] = combine[n].astype('int32')\n",
    "\n",
    "print(\"New CATS:\", CATS1 )\n",
    "print(\"Cardinality of all CATS:\", SIZES )"
   ]
  },
  {
   "cell_type": "markdown",
   "metadata": {},
   "source": [
    "# Feature Engineer (Combine Column Pairs)\n",
    "We will create a new categorical column from every pair of existing categorical columns. The original categorical columns have been label encoded into integers from `0 to N-1` each. Therefore we can create a new column with unique integers using the formula `new_cols[name] = combine[c1] * SIZES[c2] + combine[c2]`."
   ]
  },
  {
   "cell_type": "code",
   "execution_count": 10,
   "metadata": {
    "execution": {
     "iopub.execute_input": "2025-08-22T00:28:38.031403Z",
     "iopub.status.busy": "2025-08-22T00:28:38.030712Z",
     "iopub.status.idle": "2025-08-22T00:28:38.315330Z",
     "shell.execute_reply": "2025-08-22T00:28:38.314670Z",
     "shell.execute_reply.started": "2025-08-22T00:28:38.031368Z"
    },
    "trusted": true
   },
   "outputs": [
    {
     "name": "stdout",
     "output_type": "stream",
     "text": [
      "Created 120 new CAT columns\n"
     ]
    }
   ],
   "source": [
    "from itertools import combinations\n",
    "\n",
    "pairs = combinations(CATS + CATS1, 2)\n",
    "new_cols = {}\n",
    "CATS2 = []\n",
    "\n",
    "for c1, c2 in pairs:\n",
    "    s = SIZES[c1] * SIZES[c2]\n",
    "    name = \"_\".join(sorted((c1, c2)))\n",
    "    new_cols[name] = combine[c1] * SIZES[c2] + combine[c2]\n",
    "    CATS2.append(name)\n",
    "if new_cols:\n",
    "    new_df = pd.DataFrame(new_cols)         \n",
    "    combine = pd.concat([combine, new_df], axis=1) \n",
    "\n",
    "print(f\"Created {len(CATS2)} new CAT columns\")"
   ]
  },
  {
   "cell_type": "markdown",
   "metadata": {},
   "source": [
    "# Feature Engineer (CE - Count Encoding)\n",
    "We now have 136 categorical columns. We will count encode each of them and create 136 new columns."
   ]
  },
  {
   "cell_type": "code",
   "execution_count": 11,
   "metadata": {
    "execution": {
     "iopub.execute_input": "2025-08-22T00:28:41.615222Z",
     "iopub.status.busy": "2025-08-22T00:28:41.614517Z",
     "iopub.status.idle": "2025-08-22T00:28:52.813342Z",
     "shell.execute_reply": "2025-08-22T00:28:52.812655Z",
     "shell.execute_reply.started": "2025-08-22T00:28:41.615198Z"
    },
    "trusted": true
   },
   "outputs": [
    {
     "name": "stdout",
     "output_type": "stream",
     "text": [
      "Processing 136 columns... 0, 10, 20, 30, 40, 50, 60, 70, 80, 90, 100, 110, 120, 130, \n"
     ]
    }
   ],
   "source": [
    "CE = []\n",
    "CC = CATS+CATS1+CATS2\n",
    "\n",
    "print(f\"Processing {len(CC)} columns... \",end=\"\")\n",
    "for i,c in enumerate(CC):\n",
    "    if i%10==0: print(f\"{i}, \",end=\"\")\n",
    "    tmp = combine.groupby(c).y.count()\n",
    "    tmp = tmp.astype('int32')\n",
    "    tmp.name = f\"CE_{c}\"\n",
    "    CE.append( f\"CE_{c}\" )\n",
    "    combine = combine.merge(tmp, on=c, how='left')\n",
    "print()"
   ]
  },
  {
   "cell_type": "code",
   "execution_count": 17,
   "metadata": {
    "execution": {
     "iopub.execute_input": "2025-08-22T00:29:29.193756Z",
     "iopub.status.busy": "2025-08-22T00:29:29.193017Z",
     "iopub.status.idle": "2025-08-22T00:29:29.222565Z",
     "shell.execute_reply": "2025-08-22T00:29:29.222037Z",
     "shell.execute_reply.started": "2025-08-22T00:29:29.193732Z"
    },
    "trusted": true
   },
   "outputs": [
    {
     "name": "stdout",
     "output_type": "stream",
     "text": [
      "Train shape (750000, 280) Test shape (250000, 280) Original shape\n"
     ]
    }
   ],
   "source": [
    "train = combine.iloc[:len(train)]\n",
    "test = combine.iloc[len(train):len(train)+len(test)]\n",
    "\n",
    "\n",
    "print(\"Train shape\", train.shape,\"Test shape\", test.shape,\"Original shape\" )"
   ]
  },
  {
   "cell_type": "markdown",
   "metadata": {},
   "source": [
    "# Train XGB w/ Original Data as Rows\n",
    "We will now train XGBoost with adding original data as new rows. Inside each KFold for loop iteration, we will concatenate the original data to the train data as new rows. \n",
    "\n",
    "We will also use a `QuantileDMatrix` instead of a `DMatrix`. This reduces memory usage because the data will be loaded into GPU VRAM in batches and compressed in batches. This is different than the basic `DMatrix` which tries to load all the train data into GPU VRAM at the same time which spikes the memory and can cause OOM."
   ]
  },
  {
   "cell_type": "code",
   "execution_count": 18,
   "metadata": {
    "execution": {
     "iopub.execute_input": "2025-08-22T00:29:35.792250Z",
     "iopub.status.busy": "2025-08-22T00:29:35.791518Z",
     "iopub.status.idle": "2025-08-22T00:29:41.769441Z",
     "shell.execute_reply": "2025-08-22T00:29:41.768658Z",
     "shell.execute_reply.started": "2025-08-22T00:29:35.792224Z"
    },
    "trusted": true
   },
   "outputs": [
    {
     "name": "stdout",
     "output_type": "stream",
     "text": [
      "XGBoost version 2.0.3\n"
     ]
    }
   ],
   "source": [
    "from cuml.preprocessing import TargetEncoder\n",
    "from sklearn.model_selection import KFold\n",
    "import xgboost as xgb\n",
    "\n",
    "print(f\"XGBoost version {xgb.__version__}\")"
   ]
  },
  {
   "cell_type": "markdown",
   "metadata": {},
   "source": [
    "## XGB Hyperparameters"
   ]
  },
  {
   "cell_type": "code",
   "execution_count": 19,
   "metadata": {
    "execution": {
     "iopub.execute_input": "2025-08-22T00:29:44.263364Z",
     "iopub.status.busy": "2025-08-22T00:29:44.262384Z",
     "iopub.status.idle": "2025-08-22T00:29:44.268124Z",
     "shell.execute_reply": "2025-08-22T00:29:44.267350Z",
     "shell.execute_reply.started": "2025-08-22T00:29:44.263337Z"
    },
    "trusted": true
   },
   "outputs": [
    {
     "name": "stdout",
     "output_type": "stream",
     "text": [
      "We have 279 features.\n"
     ]
    }
   ],
   "source": [
    "FEATURES = NUMS+CATS+CATS1+CATS2+CE\n",
    "print(f\"We have {len(FEATURES)} features.\")\n",
    "\n",
    "FOLDS = 7\n",
    "SEED = 42\n",
    "\n",
    "params = {\n",
    "    \"objective\": \"binary:logistic\",  \n",
    "    \"eval_metric\": \"auc\",           \n",
    "    \"learning_rate\": 0.1,\n",
    "    \"max_depth\": 0,\n",
    "    \"subsample\": 0.8,\n",
    "    \"colsample_bytree\": 0.7,\n",
    "    \"seed\": SEED,\n",
    "    \"device\": \"cuda\",\n",
    "    \"grow_policy\": \"lossguide\", \n",
    "    \"max_leaves\": 32,          \n",
    "    \"alpha\": 2.0,\n",
    "}"
   ]
  },
  {
   "cell_type": "markdown",
   "metadata": {},
   "source": [
    "## Data Loader for QuantileDMatrix\n",
    "We need the following data loader to use XGB's memory efficient `QuantileDMatrix`. This data loader yields batches of data on GPU for XGB."
   ]
  },
  {
   "cell_type": "code",
   "execution_count": 20,
   "metadata": {
    "execution": {
     "iopub.execute_input": "2025-08-22T00:29:49.935395Z",
     "iopub.status.busy": "2025-08-22T00:29:49.935121Z",
     "iopub.status.idle": "2025-08-22T00:29:49.941189Z",
     "shell.execute_reply": "2025-08-22T00:29:49.940437Z",
     "shell.execute_reply.started": "2025-08-22T00:29:49.935376Z"
    },
    "trusted": true
   },
   "outputs": [],
   "source": [
    "class IterLoadForDMatrix(xgb.core.DataIter):\n",
    "    def __init__(self, df=None, features=None, target=None, batch_size=256*1024):\n",
    "        self.features = features\n",
    "        self.target = target\n",
    "        self.df = df\n",
    "        self.it = 0 \n",
    "        self.batch_size = batch_size\n",
    "        self.batches = int( np.ceil( len(df) / self.batch_size ) )\n",
    "        super().__init__()\n",
    "\n",
    "    def reset(self):\n",
    "        '''Reset the iterator'''\n",
    "        self.it = 0\n",
    "\n",
    "    def next(self, input_data):\n",
    "        '''Yield next batch of data.'''\n",
    "        if self.it == self.batches:\n",
    "            return 0 # Return 0 when there's no more batch.\n",
    "        \n",
    "        a = self.it * self.batch_size\n",
    "        b = min( (self.it + 1) * self.batch_size, len(self.df) )\n",
    "        #dt = cudf.DataFrame(self.df.iloc[a:b])\n",
    "        dt = self.df.iloc[a:b]\n",
    "        input_data(data=dt[self.features], label=dt[self.target]) \n",
    "        self.it += 1\n",
    "        return 1"
   ]
  },
  {
   "cell_type": "markdown",
   "metadata": {},
   "source": [
    "## Train XGB\n",
    "## w/ Feature Engineer - (TE - NVIDIA cuML)\n",
    "Inside each KFold for loop iteration, we will use NVIDIA cuML Target Encoder to target encode some high cardinality categorical features"
   ]
  },
  {
   "cell_type": "code",
   "execution_count": 22,
   "metadata": {
    "execution": {
     "iopub.execute_input": "2025-08-22T00:31:44.715211Z",
     "iopub.status.busy": "2025-08-22T00:31:44.714924Z",
     "iopub.status.idle": "2025-08-22T00:42:42.708177Z",
     "shell.execute_reply": "2025-08-22T00:42:42.707575Z",
     "shell.execute_reply.started": "2025-08-22T00:31:44.715189Z"
    },
    "trusted": true
   },
   "outputs": [
    {
     "name": "stdout",
     "output_type": "stream",
     "text": [
      "#########################\n",
      "### Fold 1 ###\n",
      "#########################\n",
      "Target encoding 127 features... 0, 10, 20, 30, 40, 50, 60, 70, 80, 90, 100, 110, 120, \n",
      "[0]\ttrain-auc:0.95059\tvalid-auc:0.94928\n",
      "[200]\ttrain-auc:0.97870\tvalid-auc:0.97517\n",
      "[400]\ttrain-auc:0.98213\tvalid-auc:0.97533\n",
      "[600]\ttrain-auc:0.98489\tvalid-auc:0.97533\n",
      "[609]\ttrain-auc:0.98500\tvalid-auc:0.97533\n",
      "#########################\n",
      "### Fold 2 ###\n",
      "#########################\n",
      "Target encoding 127 features... 0, 10, 20, 30, 40, 50, 60, 70, 80, 90, 100, 110, 120, \n",
      "[0]\ttrain-auc:0.95415\tvalid-auc:0.95391\n",
      "[200]\ttrain-auc:0.97872\tvalid-auc:0.97480\n",
      "[400]\ttrain-auc:0.98211\tvalid-auc:0.97508\n",
      "[600]\ttrain-auc:0.98481\tvalid-auc:0.97510\n",
      "[668]\ttrain-auc:0.98567\tvalid-auc:0.97510\n",
      "#########################\n",
      "### Fold 3 ###\n",
      "#########################\n",
      "Target encoding 127 features... 0, 10, 20, 30, 40, 50, 60, 70, 80, 90, 100, 110, 120, \n",
      "[0]\ttrain-auc:0.95095\tvalid-auc:0.94775\n",
      "[200]\ttrain-auc:0.97888\tvalid-auc:0.97396\n",
      "[400]\ttrain-auc:0.98229\tvalid-auc:0.97419\n",
      "[600]\ttrain-auc:0.98501\tvalid-auc:0.97416\n",
      "[640]\ttrain-auc:0.98550\tvalid-auc:0.97413\n",
      "#########################\n",
      "### Fold 4 ###\n",
      "#########################\n",
      "Target encoding 127 features... 0, 10, 20, 30, 40, 50, 60, 70, 80, 90, 100, 110, 120, \n",
      "[0]\ttrain-auc:0.95642\tvalid-auc:0.95635\n",
      "[200]\ttrain-auc:0.97882\tvalid-auc:0.97456\n",
      "[400]\ttrain-auc:0.98224\tvalid-auc:0.97486\n",
      "[600]\ttrain-auc:0.98493\tvalid-auc:0.97490\n",
      "[787]\ttrain-auc:0.98712\tvalid-auc:0.97490\n",
      "#########################\n",
      "### Fold 5 ###\n",
      "#########################\n",
      "Target encoding 127 features... 0, 10, 20, 30, 40, 50, 60, 70, 80, 90, 100, 110, 120, \n",
      "[0]\ttrain-auc:0.95386\tvalid-auc:0.95584\n",
      "[200]\ttrain-auc:0.97874\tvalid-auc:0.97579\n",
      "[400]\ttrain-auc:0.98220\tvalid-auc:0.97594\n",
      "[600]\ttrain-auc:0.98490\tvalid-auc:0.97593\n",
      "[669]\ttrain-auc:0.98571\tvalid-auc:0.97590\n",
      "#########################\n",
      "### Fold 6 ###\n",
      "#########################\n",
      "Target encoding 127 features... 0, 10, 20, 30, 40, 50, 60, 70, 80, 90, 100, 110, 120, \n",
      "[0]\ttrain-auc:0.95630\tvalid-auc:0.95639\n",
      "[200]\ttrain-auc:0.97868\tvalid-auc:0.97516\n",
      "[400]\ttrain-auc:0.98208\tvalid-auc:0.97543\n",
      "[600]\ttrain-auc:0.98486\tvalid-auc:0.97555\n",
      "[777]\ttrain-auc:0.98696\tvalid-auc:0.97551\n",
      "#########################\n",
      "### Fold 7 ###\n",
      "#########################\n",
      "Target encoding 127 features... 0, 10, 20, 30, 40, 50, 60, 70, 80, 90, 100, 110, 120, \n",
      "[0]\ttrain-auc:0.95139\tvalid-auc:0.95244\n",
      "[200]\ttrain-auc:0.97868\tvalid-auc:0.97599\n",
      "[400]\ttrain-auc:0.98207\tvalid-auc:0.97614\n",
      "[600]\ttrain-auc:0.98481\tvalid-auc:0.97616\n",
      "[731]\ttrain-auc:0.98641\tvalid-auc:0.97611\n"
     ]
    }
   ],
   "source": [
    "oof_preds = np.zeros(len(train))\n",
    "test_preds = np.zeros(len(test))\n",
    "\n",
    "kf = KFold(n_splits=FOLDS, shuffle=True, random_state=SEED)\n",
    "for fold, (train_idx, val_idx) in enumerate(kf.split(train)):\n",
    "    print(\"#\"*25)\n",
    "    print(f\"### Fold {fold+1} ###\")\n",
    "    print(\"#\"*25)\n",
    "\n",
    "    # Só usa train, ignora orig\n",
    "    Xy_train = train.iloc[train_idx][FEATURES+['y']].copy()\n",
    "    \n",
    "    X_valid = train.iloc[val_idx][FEATURES].copy()\n",
    "    y_valid = train.iloc[val_idx]['y']\n",
    "    X_test = test[FEATURES].copy()\n",
    "\n",
    "    # Target encoding\n",
    "    CC = CATS1+CATS2\n",
    "    print(f\"Target encoding {len(CC)} features... \",end=\"\")\n",
    "    for i,c in enumerate(CC):\n",
    "        if i%10==0: print(f\"{i}, \",end=\"\")\n",
    "        TE0 = TargetEncoder(n_folds=10, smooth=0, split_method='random', stat='mean')\n",
    "        Xy_train[c] = TE0.fit_transform(Xy_train[c],Xy_train['y']).astype('float32')\n",
    "        X_valid[c] = TE0.transform(X_valid[c]).astype('float32')\n",
    "        X_test[c] = TE0.transform(X_test[c]).astype('float32')\n",
    "    print()\n",
    "\n",
    "    # Converter categorias\n",
    "    Xy_train[CATS] = Xy_train[CATS].astype('category')\n",
    "    X_valid[CATS] = X_valid[CATS].astype('category')\n",
    "    X_test[CATS] = X_test[CATS].astype('category')\n",
    "\n",
    "    # Criar DMatrix\n",
    "    Xy_train = IterLoadForDMatrix(Xy_train, FEATURES, 'y')\n",
    "    dtrain = xgb.QuantileDMatrix(Xy_train, enable_categorical=True, max_bin=256)\n",
    "    dval   = xgb.DMatrix(X_valid, label=y_valid, enable_categorical=True)\n",
    "    dtest  = xgb.DMatrix(X_test, enable_categorical=True)\n",
    "\n",
    "    # Treino\n",
    "    model = xgb.train(\n",
    "        params=params,\n",
    "        dtrain=dtrain,\n",
    "        num_boost_round=10_000,\n",
    "        evals=[(dtrain, \"train\"), (dval, \"valid\")],\n",
    "        early_stopping_rounds=200,\n",
    "        verbose_eval=200\n",
    "    )\n",
    "\n",
    "    # Predições\n",
    "    oof_preds[val_idx] = model.predict(dval, iteration_range=(0, model.best_iteration + 1))\n",
    "    test_preds += model.predict(dtest, iteration_range=(0, model.best_iteration + 1)) / FOLDS\n"
   ]
  },
  {
   "cell_type": "markdown",
   "metadata": {},
   "source": [
    "## CV Score"
   ]
  },
  {
   "cell_type": "code",
   "execution_count": 23,
   "metadata": {
    "execution": {
     "iopub.execute_input": "2025-08-22T00:42:52.690196Z",
     "iopub.status.busy": "2025-08-22T00:42:52.689421Z",
     "iopub.status.idle": "2025-08-22T00:42:53.153075Z",
     "shell.execute_reply": "2025-08-22T00:42:53.152336Z",
     "shell.execute_reply.started": "2025-08-22T00:42:52.690162Z"
    },
    "trusted": true
   },
   "outputs": [
    {
     "name": "stdout",
     "output_type": "stream",
     "text": [
      "XGB with Original Data as rows CV = 0.9753289050923617\n"
     ]
    }
   ],
   "source": [
    "from sklearn.metrics import roc_auc_score\n",
    "\n",
    "m = roc_auc_score(train.y, oof_preds)\n",
    "print(f\"XGB with Original Data as rows CV = {m}\")"
   ]
  },
  {
   "cell_type": "code",
   "execution_count": 24,
   "metadata": {
    "execution": {
     "iopub.execute_input": "2025-08-22T00:44:16.878886Z",
     "iopub.status.busy": "2025-08-22T00:44:16.878252Z",
     "iopub.status.idle": "2025-08-22T00:44:16.959191Z",
     "shell.execute_reply": "2025-08-22T00:44:16.958464Z",
     "shell.execute_reply.started": "2025-08-22T00:44:16.878862Z"
    },
    "trusted": true
   },
   "outputs": [
    {
     "data": {
      "text/html": [
       "<div>\n",
       "<style scoped>\n",
       "    .dataframe tbody tr th:only-of-type {\n",
       "        vertical-align: middle;\n",
       "    }\n",
       "\n",
       "    .dataframe tbody tr th {\n",
       "        vertical-align: top;\n",
       "    }\n",
       "\n",
       "    .dataframe thead th {\n",
       "        text-align: right;\n",
       "    }\n",
       "</style>\n",
       "<table border=\"1\" class=\"dataframe\">\n",
       "  <thead>\n",
       "    <tr style=\"text-align: right;\">\n",
       "      <th></th>\n",
       "      <th>id</th>\n",
       "      <th>y</th>\n",
       "    </tr>\n",
       "  </thead>\n",
       "  <tbody>\n",
       "    <tr>\n",
       "      <th>0</th>\n",
       "      <td>750000</td>\n",
       "      <td>0.001068</td>\n",
       "    </tr>\n",
       "    <tr>\n",
       "      <th>1</th>\n",
       "      <td>750001</td>\n",
       "      <td>0.079577</td>\n",
       "    </tr>\n",
       "    <tr>\n",
       "      <th>2</th>\n",
       "      <td>750002</td>\n",
       "      <td>0.000094</td>\n",
       "    </tr>\n",
       "    <tr>\n",
       "      <th>3</th>\n",
       "      <td>750003</td>\n",
       "      <td>0.000054</td>\n",
       "    </tr>\n",
       "    <tr>\n",
       "      <th>4</th>\n",
       "      <td>750004</td>\n",
       "      <td>0.010708</td>\n",
       "    </tr>\n",
       "    <tr>\n",
       "      <th>...</th>\n",
       "      <td>...</td>\n",
       "      <td>...</td>\n",
       "    </tr>\n",
       "    <tr>\n",
       "      <th>249995</th>\n",
       "      <td>999995</td>\n",
       "      <td>0.000055</td>\n",
       "    </tr>\n",
       "    <tr>\n",
       "      <th>249996</th>\n",
       "      <td>999996</td>\n",
       "      <td>0.036185</td>\n",
       "    </tr>\n",
       "    <tr>\n",
       "      <th>249997</th>\n",
       "      <td>999997</td>\n",
       "      <td>0.652432</td>\n",
       "    </tr>\n",
       "    <tr>\n",
       "      <th>249998</th>\n",
       "      <td>999998</td>\n",
       "      <td>0.000334</td>\n",
       "    </tr>\n",
       "    <tr>\n",
       "      <th>249999</th>\n",
       "      <td>999999</td>\n",
       "      <td>0.174167</td>\n",
       "    </tr>\n",
       "  </tbody>\n",
       "</table>\n",
       "<p>250000 rows × 2 columns</p>\n",
       "</div>"
      ],
      "text/plain": [
       "            id         y\n",
       "0       750000  0.001068\n",
       "1       750001  0.079577\n",
       "2       750002  0.000094\n",
       "3       750003  0.000054\n",
       "4       750004  0.010708\n",
       "...        ...       ...\n",
       "249995  999995  0.000055\n",
       "249996  999996  0.036185\n",
       "249997  999997  0.652432\n",
       "249998  999998  0.000334\n",
       "249999  999999  0.174167\n",
       "\n",
       "[250000 rows x 2 columns]"
      ]
     },
     "execution_count": 24,
     "metadata": {},
     "output_type": "execute_result"
    }
   ],
   "source": [
    "subm = pd.read_csv(\"/kaggle/input/playground-series-s5e8/sample_submission.csv\")\n",
    "subm[\"y\"] = test_preds\n",
    "subm"
   ]
  },
  {
   "cell_type": "code",
   "execution_count": 25,
   "metadata": {
    "execution": {
     "iopub.execute_input": "2025-08-22T00:45:12.266727Z",
     "iopub.status.busy": "2025-08-22T00:45:12.266161Z",
     "iopub.status.idle": "2025-08-22T00:45:12.325094Z",
     "shell.execute_reply": "2025-08-22T00:45:12.324497Z",
     "shell.execute_reply.started": "2025-08-22T00:45:12.266703Z"
    },
    "trusted": true
   },
   "outputs": [],
   "source": [
    "subm.to_csv(\"xgboostBaseChrisD.csv\", index=False)"
   ]
  },
  {
   "cell_type": "markdown",
   "metadata": {},
   "source": [
    "## Feature Importance"
   ]
  },
  {
   "cell_type": "code",
   "execution_count": 26,
   "metadata": {
    "execution": {
     "iopub.execute_input": "2025-08-22T00:45:25.484931Z",
     "iopub.status.busy": "2025-08-22T00:45:25.484201Z",
     "iopub.status.idle": "2025-08-22T00:45:26.238647Z",
     "shell.execute_reply": "2025-08-22T00:45:26.237960Z",
     "shell.execute_reply.started": "2025-08-22T00:45:25.484898Z"
    },
    "trusted": true
   },
   "outputs": [
    {
     "data": {
      "image/png": "[encoded data removed]",
      "text/plain": [
       "<Figure size 1000x500 with 1 Axes>"
      ]
     },
     "metadata": {},
     "output_type": "display_data"
    }
   ],
   "source": [
    "import xgboost as xgb\n",
    "import matplotlib.pyplot as plt\n",
    "fig, ax = plt.subplots(figsize=(10, 5))\n",
    "xgb.plot_importance(model, max_num_features=20, importance_type='gain',ax=ax)\n",
    "plt.title(\"Top 20 Feature Importances (XGBoost)\")\n",
    "plt.show()"
   ]
  },
  {
   "cell_type": "markdown",
   "metadata": {},
   "source": [
    "# Train XGB w/ Original Data as Columns\n",
    "We will now train XGBoost with adding original data as new columns. We accomplish this by Target Encoding our categorical columns using the targets of the original data. Since these are not the targets of our true train.csv data, there is no leakage and we don't need to use kfold to add these new columns.\n",
    "\n",
    "We will also use a `QuantileDMatrix` instead of a `DMatrix`. This reduces memory usage because the data will be loaded into GPU VRAM in batches and compressed in batches. This is different than the basic `DMatrix` which tries to load all the train data into GPU VRAM at the same time which spikes the memory and can cause OOM."
   ]
  },
  {
   "cell_type": "markdown",
   "metadata": {},
   "source": [
    "## Feature Engineering (TE - Original Data as Cols)\n",
    "Below is a technique to add the original data as new columns."
   ]
  },
  {
   "cell_type": "code",
   "execution_count": null,
   "metadata": {
    "execution": {
     "execution_failed": "2025-08-20T13:55:29.85Z"
    },
    "trusted": true
   },
   "outputs": [],
   "source": [
    "TE_ORIG = []\n",
    "CC = CATS+CATS1+CATS2\n",
    "\n",
    "print(f\"Processing {len(CC)} columns... \",end=\"\")\n",
    "for i,c in enumerate(CC):\n",
    "    if i%10==0: print(f\"{i}, \",end=\"\")\n",
    "    tmp = orig.groupby(c).y.mean()\n",
    "    tmp = tmp.astype('float32')\n",
    "    tmp.name = f\"TE_ORIG_{c}\"\n",
    "    TE_ORIG.append( f\"TE_ORIG_{c}\" )\n",
    "    train = train.merge(tmp, on=c, how='left')\n",
    "    test = test.merge(tmp, on=c, how='left')\n",
    "print()"
   ]
  },
  {
   "cell_type": "markdown",
   "metadata": {},
   "source": [
    "## XGB Hyperparameters"
   ]
  },
  {
   "cell_type": "code",
   "execution_count": null,
   "metadata": {
    "execution": {
     "execution_failed": "2025-08-20T13:55:29.85Z"
    },
    "trusted": true
   },
   "outputs": [],
   "source": [
    "FEATURES += TE_ORIG\n",
    "print(f\"We have {len(FEATURES)} features.\")\n",
    "\n",
    "FOLDS = 7\n",
    "SEED = 42\n",
    "\n",
    "params = {\n",
    "    \"objective\": \"binary:logistic\",  \n",
    "    \"eval_metric\": \"auc\",           \n",
    "    \"learning_rate\": 0.1,\n",
    "    \"max_depth\": 0,\n",
    "    \"subsample\": 0.8,\n",
    "    \"colsample_bytree\": 0.7,\n",
    "    \"seed\": SEED,\n",
    "    \"device\": \"cuda\",\n",
    "    \"grow_policy\": \"lossguide\", \n",
    "    \"max_leaves\": 32,           \n",
    "    \"alpha\": 2.0,\n",
    "}"
   ]
  },
  {
   "cell_type": "markdown",
   "metadata": {},
   "source": [
    "## Train XGB\n",
    "## w/ Feature Engineer - (TE - NVIDIA cuML)\n",
    "Inside each KFold for loop iteration, we will use NVIDIA cuML Target Encoder to target encode some high cardinality categorical features"
   ]
  },
  {
   "cell_type": "code",
   "execution_count": null,
   "metadata": {
    "execution": {
     "execution_failed": "2025-08-20T13:55:29.85Z"
    },
    "trusted": true
   },
   "outputs": [],
   "source": [
    "oof_preds2 = np.zeros(len(train))\n",
    "test_preds2 = np.zeros(len(test))\n",
    "\n",
    "kf = KFold(n_splits=FOLDS, shuffle=True, random_state=SEED)\n",
    "for fold, (train_idx, val_idx) in enumerate(kf.split(train)):\n",
    "    print(\"#\"*25)\n",
    "    print(f\"### Fold {fold+1} ###\")\n",
    "    print(\"#\"*25)\n",
    "\n",
    "    Xy_train = train.iloc[train_idx][ FEATURES+['y'] ].copy()    \n",
    "    X_valid = train.iloc[val_idx][FEATURES].copy()\n",
    "    y_valid = train.iloc[val_idx]['y']\n",
    "    X_test = test[FEATURES].copy()\n",
    "\n",
    "    CC = CATS1+CATS2\n",
    "    print(f\"Target encoding {len(CC)} features... \",end=\"\")\n",
    "    for i,c in enumerate(CC):\n",
    "        if i%10==0: print(f\"{i}, \",end=\"\")\n",
    "        TE0 = TargetEncoder(n_folds=10, smooth=0, split_method='random', stat='mean')\n",
    "        Xy_train[c] = TE0.fit_transform(Xy_train[c],Xy_train['y']).astype('float32')\n",
    "        X_valid[c] = TE0.transform(X_valid[c]).astype('float32')\n",
    "        X_test[c] = TE0.transform(X_test[c]).astype('float32')\n",
    "    print()\n",
    "\n",
    "    Xy_train[CATS] = Xy_train[CATS].astype('category')\n",
    "    X_valid[CATS] = X_valid[CATS].astype('category')\n",
    "    X_test[CATS] = X_test[CATS].astype('category')\n",
    "\n",
    "    Xy_train = IterLoadForDMatrix(Xy_train, FEATURES, 'y')\n",
    "    dtrain = xgb.QuantileDMatrix(Xy_train, enable_categorical=True, max_bin=256)\n",
    "    dval   = xgb.DMatrix(X_valid, label=y_valid, enable_categorical=True)\n",
    "    dtest  = xgb.DMatrix(X_test, enable_categorical=True)\n",
    "\n",
    "    model = xgb.train(\n",
    "        params=params,\n",
    "        dtrain=dtrain,\n",
    "        num_boost_round=10_000,\n",
    "        evals=[(dtrain, \"train\"), (dval, \"valid\")],\n",
    "        early_stopping_rounds=200,\n",
    "        verbose_eval=200\n",
    "    )\n",
    "\n",
    "    oof_preds2[val_idx] = model.predict(dval, iteration_range=(0, model.best_iteration + 1))\n",
    "    test_preds2 += model.predict(dtest, iteration_range=(0, model.best_iteration + 1)) / FOLDS"
   ]
  },
  {
   "cell_type": "markdown",
   "metadata": {},
   "source": [
    "## CV Score"
   ]
  },
  {
   "cell_type": "code",
   "execution_count": null,
   "metadata": {
    "execution": {
     "execution_failed": "2025-08-20T13:55:29.85Z"
    },
    "trusted": true
   },
   "outputs": [],
   "source": [
    "from sklearn.metrics import roc_auc_score\n",
    "\n",
    "m = roc_auc_score(train.y, oof_preds2)\n",
    "print(f\"XGB with Original Data as columns CV = {m}\")"
   ]
  },
  {
   "cell_type": "markdown",
   "metadata": {},
   "source": [
    "## Feature Importance"
   ]
  },
  {
   "cell_type": "code",
   "execution_count": null,
   "metadata": {
    "execution": {
     "execution_failed": "2025-08-20T13:55:29.85Z"
    },
    "trusted": true
   },
   "outputs": [],
   "source": [
    "import xgboost as xgb\n",
    "import matplotlib.pyplot as plt\n",
    "fig, ax = plt.subplots(figsize=(10, 5))\n",
    "xgb.plot_importance(model, max_num_features=20, importance_type='gain',ax=ax)\n",
    "plt.title(\"Top 20 Feature Importances (XGBoost)\")\n",
    "plt.show()"
   ]
  },
  {
   "cell_type": "markdown",
   "metadata": {},
   "source": [
    "# Ensemble XGB Orig Rows w/ XGB Orig Cols"
   ]
  },
  {
   "cell_type": "code",
   "execution_count": null,
   "metadata": {
    "execution": {
     "execution_failed": "2025-08-20T13:55:29.85Z"
    },
    "trusted": true
   },
   "outputs": [],
   "source": [
    "m = roc_auc_score(train.y, oof_preds+oof_preds2)\n",
    "print(f\"Ensemble CV = {m}\")"
   ]
  },
  {
   "cell_type": "markdown",
   "metadata": {},
   "source": [
    "# Create Submission CSV"
   ]
  },
  {
   "cell_type": "code",
   "execution_count": null,
   "metadata": {
    "execution": {
     "execution_failed": "2025-08-20T13:55:29.85Z"
    },
    "trusted": true
   },
   "outputs": [],
   "source": [
    "sub = pd.read_csv(f\"{PATH}sample_submission.csv\")\n",
    "sub['y'] = (test_preds + test_preds2)/2.\n",
    "sub.to_csv(\"submission.csv\",index=False)\n",
    "print('Submission shape',sub.shape)\n",
    "sub.head()"
   ]
  },
  {
   "cell_type": "markdown",
   "metadata": {},
   "source": [
    "## EDA Test Preds"
   ]
  },
  {
   "cell_type": "code",
   "execution_count": null,
   "metadata": {
    "execution": {
     "execution_failed": "2025-08-20T13:55:29.85Z"
    },
    "trusted": true
   },
   "outputs": [],
   "source": [
    "plt.hist(sub.y,bins=100)\n",
    "plt.title('Test Preds')\n",
    "plt.ylim((0,10_000))\n",
    "plt.show()"
   ]
  }
 ],
 "metadata": {
  "kaggle": {
   "accelerator": "nvidiaTeslaT4",
   "dataSources": [
    {
     "databundleVersionId": 12937777,
     "sourceId": 91719,
     "sourceType": "competition"
    },
    {
     "datasetId": 5626665,
     "sourceId": 9293783,
     "sourceType": "datasetVersion"
    }
   ],
   "dockerImageVersionId": 31090,
   "isGpuEnabled": true,
   "isInternetEnabled": false,
   "language": "python",
   "sourceType": "notebook"
  },
  "kernelspec": {
   "display_name": "Python 3",
   "language": "python",
   "name": "python3"
  },
  "language_info": {
   "codemirror_mode": {
    "name": "ipython",
    "version": 3
   },
   "file_extension": ".py",
   "mimetype": "text/x-python",
   "name": "python",
   "nbconvert_exporter": "python",
   "pygments_lexer": "ipython3",
   "version": "3.11.13"
  }
 },
 "nbformat": 4,
 "nbformat_minor": 4
}
